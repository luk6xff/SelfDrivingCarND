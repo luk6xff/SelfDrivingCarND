{
 "cells": [
  {
   "cell_type": "markdown",
   "metadata": {},
   "source": [
    "## Using Convolution Layers in TensorFlow\n",
    "Let's now apply what we've learned to build real CNNs in TensorFlow. In the below exercise, you'll be asked to set up the dimensions of the Convolution filters, the weights, the biases. This is in many ways the trickiest part to using CNNs in TensorFlow. Once you have a sense of how to set up the dimensions of these attributes, applying CNNs will be far more straight forward.\n",
    "\n",
    "Review\n",
    "You should go over the TensorFlow documentation for 2D convolutions. Most of the documentation is straightforward, except perhaps the ```padding``` argument. The padding might differ depending on whether you pass ```'VALID'``` or ```'SAME'```.\n",
    "\n",
    "Here are a few more things worth reviewing:\n",
    "\n",
    "Introduction to TensorFlow -> TensorFlow Variables.\n",
    "How to determine the dimensions of the output based on the input size and the filter size (shown below). You'll use this to determine what the size of your filter should be.\n",
    "* ```new_height = (input_height - filter_height + 2 * P)/S + 1```\n",
    "* ```new_width = (input_width - filter_width + 2 * P)/S + 1```\n",
    "* Instructions:\n",
    "Finish off each `TODO` in the `conv2d` function.\n",
    "Setup the `strides`, `padding` and filter weight/bias (`F_w` and `F_b`) such that the output shape is ```(1, 2, 2, 3)```. Note that all of these except `strides` should be TensorFlow variables."
   ]
  },
  {
   "cell_type": "code",
   "execution_count": 1,
   "metadata": {},
   "outputs": [],
   "source": [
    "import tensorflow as tf\n",
    "import numpy as np"
   ]
  },
  {
   "cell_type": "code",
   "execution_count": 2,
   "metadata": {},
   "outputs": [
    {
     "data": {
      "text/plain": [
       "<tf.Tensor 'add:0' shape=(1, 2, 2, 3) dtype=float32>"
      ]
     },
     "execution_count": 2,
     "metadata": {},
     "output_type": "execute_result"
    }
   ],
   "source": [
    "\"\"\"\n",
    "Setup the strides, padding and filter weight/bias such that\n",
    "the output shape is (1, 2, 2, 3).\n",
    "\"\"\"\n",
    "# `tf.nn.conv2d` requires the input be 4D (batch_size, height, width, depth)\n",
    "# (1, 4, 4, 1)\n",
    "x = np.array([\n",
    "    [0, 1, 0.5, 10],\n",
    "    [2, 2.5, 1, -8],\n",
    "    [4, 0, 5, 6],\n",
    "    [15, 1, 2, 3]], dtype=np.float32).reshape((1, 4, 4, 1))\n",
    "X = tf.constant(x)\n",
    "\n",
    "def conv2d(input_array):\n",
    "    # Filter (weights and bias)\n",
    "    # The shape of the filter weight is (height, width, input_depth, output_depth)\n",
    "    # The shape of the filter bias is (output_depth,)\n",
    "    # TODO: Define the filter weights `F_W` and filter bias `F_b`.\n",
    "    # NOTE: Remember to wrap them in `tf.Variable`, they are trainable parameters after all.\n",
    "    F_W = tf.Variable(tf.truncated_normal((2, 2, 1, 3)))\n",
    "    F_b = tf.Variable(tf.zeros(3))\n",
    "    # TODO: Set the stride for each dimension (batch_size, height, width, depth)\n",
    "    strides = [1, 2, 2, 1]\n",
    "    # TODO: set the padding, either 'VALID' or 'SAME'.\n",
    "    padding = 'VALID'\n",
    "    # https://www.tensorflow.org/versions/r0.11/api_docs/python/nn.html#conv2d\n",
    "    # `tf.nn.conv2d` does not include the bias computation so we have to add it ourselves after.\n",
    "    return tf.nn.conv2d(input_array, F_W, strides, padding) + F_b\n",
    "\n",
    "output = conv2d(X)\n",
    "output"
   ]
  },
  {
   "cell_type": "code",
   "execution_count": 4,
   "metadata": {},
   "outputs": [
    {
     "name": "stdout",
     "output_type": "stream",
     "text": [
      "Great job! Your Convolution layer looks good :)\n"
     ]
    }
   ],
   "source": [
    "##### Do Not Modify ######\n",
    "\n",
    "import tensorflow as tf\n",
    "import numpy as np\n",
    "import json\n",
    "\n",
    "\n",
    "def solution(input_array):\n",
    "    # Filter (weights and bias)\n",
    "    F_W = tf.Variable(tf.truncated_normal((2, 2, 1, 3)))\n",
    "    F_b = tf.Variable(tf.zeros(3))\n",
    "    strides = [1, 2, 2, 1]\n",
    "    padding = 'VALID'\n",
    "    return tf.nn.conv2d(input_array, F_W, strides, padding) + F_b\n",
    "\n",
    "def get_result(input_array, student_func):\n",
    "        \n",
    "    result = {'is_correct': None, 'error': False, 'values': [], 'output': '', 'custom_msg': ''}\n",
    "    ours = solution(input_array)\n",
    "    theirs = student_func(input_array)\n",
    "\n",
    "    dim_names = ['Batch', 'Height', 'Width', 'Depth']\n",
    "    with tf.Session() as sess:\n",
    "        sess.run(tf.global_variables_initializer())\n",
    "        our_shape = ours.get_shape().as_list()\n",
    "        their_shape = theirs.get_shape().as_list()\n",
    "\n",
    "        did_pass = False\n",
    "\n",
    "        try:\n",
    "            for dn, ov, tv in zip(dim_names, our_shape, their_shape):\n",
    "                if ov != tv:\n",
    "                    # dimension mismatch\n",
    "                    raise Exception('{} dimension: mismatch we have {}, you have {}'.format(dn, ov, tv))\n",
    "            if np.alltrue(our_shape == their_shape):\n",
    "                did_pass = True\n",
    "            else:\n",
    "                did_pass = False\n",
    "        except:\n",
    "            did_pass = False\n",
    "\n",
    "        if did_pass:\n",
    "            result['is_correct'] = 'Great Job!'\n",
    "            result['values'] = ['your output shape: {}'.format(their_shape)]\n",
    "        else:\n",
    "            result['values'] = ['correct shape: {}'.format(our_shape)]\n",
    "            result['output'] = ['your output shape: {}'.format(their_shape)]\n",
    "\n",
    "    return result\n",
    "                    \n",
    "def run_grader(input_array, student_func):\n",
    "  \n",
    "    grader_result = get_result(input_array, student_func)\n",
    "    gt_shape = grader_result.get('values')\n",
    "    student_func_shape = grader_result.get('output')\n",
    "    comment = \"\"\n",
    "\n",
    "    if grader_result['is_correct']:\n",
    "        comment= \"Great job! Your Convolution layer looks good :)\"\n",
    "    elif not grader_result['error']:\n",
    "        comment = \"Not quite. The correct output shape is {} while your output shape is {}.\".format(gt_shape, student_func_shape)\n",
    "    else:\n",
    "        test_error = grader_result['error']\n",
    "        comment = \"Something went wrong with your submission: {}\".format(test_error)\n",
    "\n",
    "    grader_result['feedback'] = comment\n",
    "    \n",
    "    return grader_result.get('feedback')\n",
    "\n",
    "test_X = tf.constant(np.random.randn(1, 4, 4, 1), dtype=tf.float32)\n",
    "\n",
    "try:\n",
    "    response = run_grader(test_X, conv2d)\n",
    "    print(response)\n",
    "    \n",
    "    \n",
    "except Exception as err:\n",
    "    print(str(err))\n",
    "    "
   ]
  },
  {
   "cell_type": "markdown",
   "metadata": {},
   "source": [
    "## SOLUTION\n",
    "\n",
    "\n",
    "```python\n",
    "def conv2d(input):\n",
    "    # Filter (weights and bias)\n",
    "    F_W = tf.Variable(tf.truncated_normal((2, 2, 1, 3)))\n",
    "    F_b = tf.Variable(tf.zeros(3))\n",
    "    strides = [1, 2, 2, 1]\n",
    "    padding = 'VALID'\n",
    "    return tf.nn.conv2d(input, F_W, strides, padding) + F_b\n",
    "```\n",
    "I want to transform the input shape ```(1, 4, 4, 1)``` to ```(1, 2, 2, 3)```. I choose ```'VALID'``` for the padding algorithm. I find it simpler to understand and it achieves the result I'm looking for.\n",
    "\n",
    "```python\n",
    "out_height = ceil(float(in_height - filter_height + 1) / float(strides[1]))\n",
    "out_width  = ceil(float(in_width - filter_width + 1) / float(strides[2]))\n",
    "```\n",
    "Plugging in the values:\n",
    "\n",
    "```python\n",
    "out_height = ceil(float(4 - 2 + 1) / float(2)) = ceil(1.5) = 2\n",
    "out_width  = ceil(float(4 - 2 + 1) / float(2)) = ceil(1.5) = 2\n",
    "```\n",
    "In order to change the depth from 1 to 3, I have to set the output depth of my filter appropriately:\n",
    "\n",
    "```python\n",
    "F_W = tf.Variable(tf.truncated_normal((2, 2, 1, 3))) # (height, width, input_depth, output_depth)\n",
    "F_b = tf.Variable(tf.zeros(3)) # (output_depth)\n",
    "The input has a depth of 1, so I set that as the input_depth of the filter.\n",
    "```"
   ]
  },
  {
   "cell_type": "code",
   "execution_count": null,
   "metadata": {},
   "outputs": [],
   "source": []
  }
 ],
 "metadata": {
  "kernelspec": {
   "display_name": "Python 3",
   "language": "python",
   "name": "python3"
  },
  "language_info": {
   "codemirror_mode": {
    "name": "ipython",
    "version": 3
   },
   "file_extension": ".py",
   "mimetype": "text/x-python",
   "name": "python",
   "nbconvert_exporter": "python",
   "pygments_lexer": "ipython3",
   "version": "3.5.2"
  },
  "widgets": {
   "state": {},
   "version": "1.1.2"
  }
 },
 "nbformat": 4,
 "nbformat_minor": 2
}
