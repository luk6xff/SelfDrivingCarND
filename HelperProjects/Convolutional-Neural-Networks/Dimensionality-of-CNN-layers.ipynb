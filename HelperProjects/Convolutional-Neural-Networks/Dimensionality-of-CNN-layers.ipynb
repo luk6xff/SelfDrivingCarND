{
 "cells": [
  {
   "cell_type": "markdown",
   "metadata": {},
   "source": [
    "## Dimensionality\n",
    "How can we calculate the number of neurons of each layer in our CNN?\n",
    "\n",
    "Given:\n",
    "\n",
    "* our input layer has: \n",
    "* a width of **W**\n",
    "* a height of **H**\n",
    "* our convolutional layer has a filter size **F**\n",
    "* we have a stride of **S**\n",
    "* a padding of **P**\n",
    "* and the number of filters **K**,\n",
    "\n",
    "the following formula gives us the width of the next layer: **W_out =[ (W−F+2P)/S] + 1**.\n",
    "\n",
    "The output height would be **H_out = [(H-F+2P)/S] + 1**.\n",
    "\n",
    "And the output depth would be equal to the number of filters **D_out = K**.\n",
    "\n",
    "The output volume would be **W_out * H_out * D_out**.\n",
    "\n",
    "Knowing the dimensionality of each additional layer helps us understand how large our model is and how our decisions around filter size and stride affect the size of our network."
   ]
  },
  {
   "cell_type": "code",
   "execution_count": null,
   "metadata": {},
   "outputs": [],
   "source": []
  }
 ],
 "metadata": {
  "kernelspec": {
   "display_name": "Python 3",
   "language": "python",
   "name": "python3"
  },
  "language_info": {
   "codemirror_mode": {
    "name": "ipython",
    "version": 3
   },
   "file_extension": ".py",
   "mimetype": "text/x-python",
   "name": "python",
   "nbconvert_exporter": "python",
   "pygments_lexer": "ipython3",
   "version": "3.5.2"
  },
  "widgets": {
   "state": {},
   "version": "1.1.2"
  }
 },
 "nbformat": 4,
 "nbformat_minor": 2
}
