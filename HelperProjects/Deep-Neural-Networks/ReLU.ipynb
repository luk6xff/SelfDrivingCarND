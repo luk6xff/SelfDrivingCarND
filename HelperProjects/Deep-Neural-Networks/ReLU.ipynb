{
 "cells": [
  {
   "cell_type": "code",
   "execution_count": 1,
   "metadata": {},
   "outputs": [],
   "source": [
    "import tensorflow as tf\n",
    "\n",
    "output = None\n",
    "hidden_layer_weights = [\n",
    "    [0.1, 0.2, 0.4],\n",
    "    [0.4, 0.6, 0.6],\n",
    "    [0.5, 0.9, 0.1],\n",
    "    [0.8, 0.2, 0.8]]\n",
    "out_weights = [\n",
    "    [0.1, 0.6],\n",
    "    [0.2, 0.1],\n",
    "    [0.7, 0.9]]"
   ]
  },
  {
   "cell_type": "code",
   "execution_count": 2,
   "metadata": {},
   "outputs": [],
   "source": [
    "# Weights and biases\n",
    "weights = [\n",
    "    tf.Variable(hidden_layer_weights),\n",
    "    tf.Variable(out_weights)]\n",
    "biases = [\n",
    "    tf.Variable(tf.zeros(3)),\n",
    "    tf.Variable(tf.zeros(2))]"
   ]
  },
  {
   "cell_type": "code",
   "execution_count": 3,
   "metadata": {},
   "outputs": [],
   "source": [
    "# Input\n",
    "features = tf.Variable([[1.0, 2.0, 3.0, 4.0], [-1.0, -2.0, -3.0, -4.0], [11.0, 12.0, 13.0, 14.0]])"
   ]
  },
  {
   "cell_type": "code",
   "execution_count": 4,
   "metadata": {},
   "outputs": [],
   "source": [
    "# TODO: Create Model\n",
    "hidden_layer = tf.add(tf.matmul(features, weights[0]), biases[0])\n",
    "hidden_layer = tf.nn.relu(hidden_layer)\n",
    "logits = tf.add(tf.matmul(hidden_layer, weights[1]), biases[1])"
   ]
  },
  {
   "cell_type": "code",
   "execution_count": 6,
   "metadata": {},
   "outputs": [
    {
     "name": "stdout",
     "output_type": "stream",
     "text": [
      "[[  5.11000013   8.44000053]\n",
      " [  0.           0.        ]\n",
      " [ 24.01000214  38.23999786]]\n"
     ]
    }
   ],
   "source": [
    "# TODO: save and print session results on a variable named \"output\"\n",
    "with tf.Session() as sess:\n",
    "    sess.run(tf.global_variables_initializer())\n",
    "    output = sess.run(logits)\n",
    "    print(output)"
   ]
  },
  {
   "cell_type": "code",
   "execution_count": 10,
   "metadata": {},
   "outputs": [
    {
     "name": "stdout",
     "output_type": "stream",
     "text": [
      "You got it!  That's how you use a ReLU.\n",
      "\n",
      "\n"
     ]
    }
   ],
   "source": [
    "# GRADER\n",
    "\n",
    "import numpy as np\n",
    "from tensorflow.python.framework.errors import FailedPreconditionError\n",
    "import re\n",
    "\n",
    "def get_result(output):\n",
    "    \n",
    "    \"\"\"\n",
    "    Run tests\n",
    "    \"\"\"\n",
    "    \n",
    "    answer = np.array([\n",
    "        [5.11000013, 8.44000053],\n",
    "        [0., 0.],\n",
    "        [24.01000214, 38.23999786]])\n",
    "    result = {\n",
    "        'correct': False,\n",
    "        'feedback': 'That\\'s the wrong answer.  It should print {}'.format(answer),\n",
    "        'comment': ''}\n",
    "    \n",
    "    output_shape = np.shape(output)\n",
    "    answer_shape = np.shape(answer)\n",
    "        \n",
    "    if output_shape != answer_shape: \n",
    "        result['feedback'] = 'Output is the wrong type or wrong dimension.'\n",
    "        result['comment'] = 'Output shape is {}, answer shape is {})'.format(output_shape, answer_shape)\n",
    "        \n",
    "    elif (0 > output).sum():\n",
    "        result['feedback'] = 'Output contains negative numbers.'\n",
    "        result['comment'] = 'Are you applying ReLU to hidden_layer?'\n",
    "    \n",
    "    else:\n",
    "        \n",
    "        if np.allclose(output, answer):\n",
    "            result['correct'] = True\n",
    "            result['feedback'] = 'You got it!  That\\'s how you use a ReLU.'\n",
    "       \n",
    "   \n",
    "    \n",
    "    return result\n",
    "\n",
    "def run_grader(output):\n",
    "    \n",
    "    if not np.any(output):\n",
    "        print(\"Don't forget to complete all tasks and name your session variable output\")\n",
    "    \n",
    "    else:\n",
    "        try:\n",
    "        # Get grade result information\n",
    "            result = get_result(output)\n",
    "        except Exception as err:\n",
    "            # Default error result\n",
    "            result = {\n",
    "                'correct': False,\n",
    "                'feedback': 'Something went wrong with your submission:',\n",
    "                'comment': str(err)}\n",
    "\n",
    "        feedback = result.get('feedback')\n",
    "        comment = result.get('comment')\n",
    "\n",
    "        print(\"{}\\n{}\\n\".format(feedback, comment))\n",
    "\n",
    "\n",
    "\n",
    "if __name__ == \"__main__\":\n",
    "    \n",
    "    run_grader(output)"
   ]
  },
  {
   "cell_type": "code",
   "execution_count": null,
   "metadata": {},
   "outputs": [],
   "source": []
  }
 ],
 "metadata": {
  "kernelspec": {
   "display_name": "Python 3",
   "language": "python",
   "name": "python3"
  },
  "language_info": {
   "codemirror_mode": {
    "name": "ipython",
    "version": 3
   },
   "file_extension": ".py",
   "mimetype": "text/x-python",
   "name": "python",
   "nbconvert_exporter": "python",
   "pygments_lexer": "ipython3",
   "version": "3.5.2"
  },
  "widgets": {
   "state": {},
   "version": "1.1.2"
  }
 },
 "nbformat": 4,
 "nbformat_minor": 2
}
