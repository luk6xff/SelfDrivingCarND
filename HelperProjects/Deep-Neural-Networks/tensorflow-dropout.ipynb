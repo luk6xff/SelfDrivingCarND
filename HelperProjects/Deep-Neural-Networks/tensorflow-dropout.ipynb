{
 "cells": [
  {
   "cell_type": "markdown",
   "metadata": {},
   "source": [
    "This quiz will be starting with the code from the ReLU Quiz and applying a dropout layer. Build a model with a ReLU layer and dropout layer using the keep_prob placeholder to pass in a probability of 0.5. Print the logits from the model.\n",
    "\n",
    "Note: Output will be different every time the code is run. This is caused by dropout randomizing the units it drops."
   ]
  },
  {
   "cell_type": "code",
   "execution_count": 1,
   "metadata": {},
   "outputs": [],
   "source": [
    "import tensorflow as tf\n",
    "tf.set_random_seed(123456)\n",
    "\n",
    "\n",
    "hidden_layer_weights = [\n",
    "    [0.1, 0.2, 0.4],\n",
    "    [0.4, 0.6, 0.6],\n",
    "    [0.5, 0.9, 0.1],\n",
    "    [0.8, 0.2, 0.8]]\n",
    "out_weights = [\n",
    "    [0.1, 0.6],\n",
    "    [0.2, 0.1],\n",
    "    [0.7, 0.9]]"
   ]
  },
  {
   "cell_type": "code",
   "execution_count": 2,
   "metadata": {},
   "outputs": [],
   "source": [
    "# set random seed\n",
    "tf.set_random_seed(123456)"
   ]
  },
  {
   "cell_type": "code",
   "execution_count": 3,
   "metadata": {},
   "outputs": [],
   "source": [
    "# Weights and biases\n",
    "weights = [\n",
    "    tf.Variable(hidden_layer_weights),\n",
    "    tf.Variable(out_weights)\n",
    "]\n",
    "\n",
    "biases = [\n",
    "    tf.Variable(tf.zeros(3)),\n",
    "    tf.Variable(tf.zeros(2))\n",
    "]"
   ]
  },
  {
   "cell_type": "code",
   "execution_count": 4,
   "metadata": {},
   "outputs": [],
   "source": [
    "# Input\n",
    "features = tf.Variable([[0.0, 2.0, 3.0, 4.0], [0.1, 0.2, 0.3, 0.4], [11.0, 12.0, 13.0, 14.0]])"
   ]
  },
  {
   "cell_type": "code",
   "execution_count": 5,
   "metadata": {},
   "outputs": [],
   "source": [
    "keep_prob = tf.placeholder(tf.float32) # probability to keep units\n",
    "\n",
    "# TODO: Create Model with Dropout\n",
    "hidden_layer = tf.add(tf.matmul(features, weights[0]), biases[0])\n",
    "hidden_layer = tf.nn.relu(hidden_layer)\n",
    "hidden_layer = tf.nn.dropout(hidden_layer, keep_prob)\n",
    "\n",
    "logits = tf.add(tf.matmul(hidden_layer, weights[1]), biases[1])"
   ]
  },
  {
   "cell_type": "code",
   "execution_count": 6,
   "metadata": {},
   "outputs": [
    {
     "name": "stdout",
     "output_type": "stream",
     "text": [
      "[[  9.55999947  16.        ]\n",
      " [  0.11200001   0.67200011]\n",
      " [ 43.30000305  48.15999985]]\n"
     ]
    }
   ],
   "source": [
    "# TODO: save and print session results as variable named \"output\"\n",
    "output = None\n",
    "with tf.Session() as sess:\n",
    "    sess.run(tf.global_variables_initializer())\n",
    "    output = sess.run(logits, feed_dict={keep_prob: 0.5})\n",
    "    print(output)"
   ]
  },
  {
   "cell_type": "code",
   "execution_count": 7,
   "metadata": {},
   "outputs": [
    {
     "name": "stdout",
     "output_type": "stream",
     "text": [
      "You got it!  That's how you use dropout.\n",
      "\n",
      "\n"
     ]
    }
   ],
   "source": [
    "import numpy as np\n",
    "from tensorflow.python.framework.errors import FailedPreconditionError\n",
    "import re\n",
    "import tensorflow as tf\n",
    "\n",
    "def get_result(output):\n",
    "    \"\"\"\n",
    "    Run tests against output\n",
    "    \"\"\"\n",
    "    \n",
    "    answer = np.array([\n",
    "        [9.55999947, 16.],\n",
    "        [0.11200001, 0.67200011],\n",
    "        [43.30000305, 48.15999985]])\n",
    "    no_dropout = np.array([\n",
    "        [4.77999973, 8.],\n",
    "        [0.51100004, 0.8440001],\n",
    "        [24.01000214, 38.23999786]])\n",
    "    result = {\n",
    "        'correct': False,\n",
    "        'feedback': 'That\\'s the wrong answer.  It should print {}'.format(answer),\n",
    "        'comment': ''}\n",
    "    \n",
    "    try:\n",
    "        tf.set_random_seed(123456)\n",
    "        if output.shape == answer.shape and np.allclose(output, answer):\n",
    "            result['correct'] = True\n",
    "            result['feedback'] = 'You got it!  That\\'s how you use dropout.'\n",
    "        elif output.shape == no_dropout.shape and np.allclose(output, no_dropout):\n",
    "            result['feedback'] = 'It looks like you\\'re not applying dropout.'\n",
    "            result['comment'] = 'Use the tf.nn.dropout() operation.'\n",
    "    except FailedPreconditionError as err:\n",
    "        if err.message.startswith('Attempting to use uninitialized value Variable'):\n",
    "            result['feedback'] = 'TensorFlow variable uninitialized.'\n",
    "            result['comment'] = 'Run tf.initialize_all_variables() in the session.'\n",
    "        else:\n",
    "            raise\n",
    "\n",
    "    return result\n",
    "\n",
    "def run_grader(output):\n",
    "\n",
    "    if not np.all(output):\n",
    "        print(\"Don't forget to complete all tasks and name your session variable output\")\n",
    "    else:\n",
    "        try:\n",
    "        # Get grade result information\n",
    "            result = get_result(output)\n",
    "        except Exception as err:\n",
    "            # Default error result\n",
    "            result = {\n",
    "                'correct': False,\n",
    "                'feedback': 'Something went wrong with your submission:',\n",
    "                'comment': str(err)}\n",
    "\n",
    "        feedback = result.get('feedback')\n",
    "        comment = result.get('comment')\n",
    "\n",
    "        print(\"{}\\n{}\\n\".format(feedback, comment))\n",
    "\n",
    "\n",
    "\n",
    "if __name__ == \"__main__\":\n",
    "    \n",
    "    run_grader(output)"
   ]
  },
  {
   "cell_type": "code",
   "execution_count": null,
   "metadata": {},
   "outputs": [],
   "source": []
  }
 ],
 "metadata": {
  "kernelspec": {
   "display_name": "Python 3",
   "language": "python",
   "name": "python3"
  },
  "language_info": {
   "codemirror_mode": {
    "name": "ipython",
    "version": 3
   },
   "file_extension": ".py",
   "mimetype": "text/x-python",
   "name": "python",
   "nbconvert_exporter": "python",
   "pygments_lexer": "ipython3",
   "version": "3.5.2"
  },
  "widgets": {
   "state": {},
   "version": "1.1.2"
  }
 },
 "nbformat": 4,
 "nbformat_minor": 2
}
